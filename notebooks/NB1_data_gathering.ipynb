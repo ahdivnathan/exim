{
 "metadata": {
  "name": ""
 },
 "nbformat": 3,
 "nbformat_minor": 0,
 "worksheets": [
  {
   "cells": [
    {
     "cell_type": "heading",
     "level": 2,
     "metadata": {},
     "source": [
      "Overview"
     ]
    },
    {
     "cell_type": "markdown",
     "metadata": {},
     "source": [
      "In this notebook, we have a script that scrapes various data pertaining to import and export information for each country from 1995 to 2012, as well as stock index data for a selection of developed nations.  For each country whose import and export data we scrape, we are collecting data on who they import and export from, and the mix of products that they import and export.  For each country whose stock index data we scrape, we pull raw prices of the country's main stock index for the years under investigation.  After scraping the data in the form of Python dictionaries, we conduct some basic scrubbing techniques before storing the relevant information in CSVs for later use.  Furthermore, to demonstrate analysis techniques using numpy, we create the Trade Diversification Index before storing that as our measure of trade diversity. We will be going over the data gathering process of our 4 datasets:\n",
      "<br />\n",
      "<br />\n",
      "1. Export and Import Data\n",
      "<br />\n",
      "2. Currency Exchange Rates\n",
      "<br />\n",
      "3. Stock Index Prices\n",
      "<br />\n",
      "4. Economic Indicators"
     ]
    },
    {
     "cell_type": "markdown",
     "metadata": {},
     "source": [
      "Before we proceed, for simplicity, we will import all the libraries that we will need in this notebook."
     ]
    },
    {
     "cell_type": "code",
     "collapsed": false,
     "input": [
      "import json\n",
      "import csv\n",
      "import string\n",
      "import requests\n",
      "import os\n",
      "from pandas import DataFrame\n",
      "from numpy import array, ndarray, matrix\n",
      "import numpy\n",
      "import ystockquote"
     ],
     "language": "python",
     "metadata": {},
     "outputs": [],
     "prompt_number": 30
    },
    {
     "cell_type": "heading",
     "level": 2,
     "metadata": {},
     "source": [
      "Export and Import Data"
     ]
    },
    {
     "cell_type": "markdown",
     "metadata": {},
     "source": [
      "Export and Import data is collected through scraping the Obervatory of Economic Complexity website from MIT's Media Lab. We are gathering data on the monetary values of goods being exported and imported, as well as to which partner countries."
     ]
    },
    {
     "cell_type": "markdown",
     "metadata": {},
     "source": [
      "The following function definitions in the Python language are aimed to do just that. We first define the set of countries we wish to gather data from."
     ]
    },
    {
     "cell_type": "code",
     "collapsed": false,
     "input": [
      "def load_country_dict():\n",
      "    \"\"\"\n",
      "    Here we are loading from a CSV the countries about which we are able to scrape data.  This list of countries was downloaded directly from http://atlas.media.mit.edu/about/data/country/.  The goal of this project was to scrape the import/export data, so we simply downloaded this data from the website.\n",
      "    \"\"\"\n",
      "    f = open('country_codes.txt', 'rU')\n",
      "    reader = csv.reader(f)\n",
      "    country_dict = {}\n",
      "    for row in reader:\n",
      "        country_dict[row[0]] = row[1]\n",
      "    return country_dict"
     ],
     "language": "python",
     "metadata": {},
     "outputs": [],
     "prompt_number": 31
    },
    {
     "cell_type": "markdown",
     "metadata": {},
     "source": [
      "Now, we are ready to define the functions that will perform the actual scraping. For your reference, the website is http://atlas.media.mit.edu/hs/export/"
     ]
    },
    {
     "cell_type": "code",
     "collapsed": false,
     "input": [
      "def get_product_data(year, country):\n",
      "    \"\"\"\n",
      "    This function returns the JSON file that contains the data on each country from the URL specified below.  The JSON file is pulled as a dictionary, and is then scrubbed into a list of dictionaries, in which each dictionary contains information about a particular product that is imported or exported.\n",
      "    \"\"\"\n",
      "    \n",
      "    url = 'http://atlas.media.mit.edu/hs/export/' + str(year) + '/' + country + '/all/show/'\n",
      "    page = requests.get(url)\n",
      "    return page.json().values()[0]\n",
      "\n",
      "def write_data_to_files():\n",
      "    \"\"\"\n",
      "    This function uses get_product_data() and get_partner_data() to write files containing the data scraped from the Observatory of Economic Complexity.  These will be formatted as CSVs for easy access later.\n",
      "    \"\"\"\n",
      "    \n",
      "    country_dict = load_country_dict()\n",
      "    countries = country_dict.keys()\n",
      "    years = range(1995, 2012)\n",
      "    for country in countries:\n",
      "        os.makedirs('data/part/' + country)\n",
      "        os.makedirs('data/prod/' + country)\n",
      "        for year in years:\n",
      "            f = open('data/part/' + country + '/' + str(year) + '.txt', 'wb')\n",
      "            writer = csv.writer(f)\n",
      "            to_write = []\n",
      "            part_raw_data = get_partner_data(year, country)\n",
      "            for i in range(len(part_raw_data)):\n",
      "                temp = []\n",
      "                temp.append(part_raw_data[i]['dest_id'])\n",
      "                if 'export_val' in part_raw_data[i].keys():\n",
      "                    temp.append(part_raw_data[i]['export_val'])\n",
      "                else:\n",
      "                    temp.append(0)\n",
      "                if 'import_val' in part_raw_data[i].keys():\n",
      "                    temp.append(part_raw_data[i]['import_val'])\n",
      "                else:\n",
      "                    temp.append(0)\n",
      "                to_write.append(temp)\n",
      "            writer.writerows(to_write)\n",
      "            f.close()\n",
      "            f = open('data/prod/' + country + '/' + str(year) + '.txt', 'wb')\n",
      "            writer = csv.writer(f)\n",
      "            to_write = []\n",
      "            prod_raw_data = get_product_data(year, country)\n",
      "            for i in range(len(prod_raw_data)):\n",
      "                temp = []\n",
      "                temp.append(prod_raw_data[i]['hs_id'])\n",
      "                if 'export_val' in prod_raw_data[i].keys():\n",
      "                    temp.append(prod_raw_data[i]['export_val'])\n",
      "                else:\n",
      "                    temp.append(0)\n",
      "                if 'import_val' in prod_raw_data[i].keys():\n",
      "                    temp.append(prod_raw_data[i]['import_val'])\n",
      "                else:\n",
      "                    temp.append(0)\n",
      "                to_write.append(temp)\n",
      "            writer.writerows(to_write)\n",
      "            f.close()\n",
      "            \n",
      "def create_export_product_csv():\n",
      "    years = ['1995', '1996', '1997', '1998', '1999', '2000', '2001', '2002', '2003', '2004', '2005', '2006', '2007', '2008', '2009', '2010', '2011']\n",
      "    countries = load_country_dict().keys()\n",
      "    values_arr = []\n",
      "    countries_proxy = []\n",
      "    for country in countries:\n",
      "        countries_proxy.append(country)\n",
      "    values_arr.append(countries_proxy)\n",
      "    for year in years:\n",
      "        year_arr = []\n",
      "        for country in countries:\n",
      "            year_arr.append(calc_export_product_variance(year, country))\n",
      "        values_arr.append(year_arr)\n",
      "    f = open('data/trade/export_prod.csv', 'wb')\n",
      "    writer = csv.writer(f)\n",
      "    writer.writerows(values_arr)\n",
      "    f.close()\n",
      "    \n",
      "def create_import_product_csv():\n",
      "    years = ['1995', '1996', '1997', '1998', '1999', '2000', '2001', '2002', '2003', '2004', '2005', '2006', '2007', '2008', '2009', '2010', '2011']\n",
      "    countries = load_country_dict().keys()\n",
      "    values_arr = []\n",
      "    countries_proxy = []\n",
      "    for country in countries:\n",
      "        countries_proxy.append(country)\n",
      "    values_arr.append(countries_proxy)\n",
      "    for year in years:\n",
      "        year_arr = []\n",
      "        for country in countries:\n",
      "            year_arr.append(calc_import_product_variance(year, country))\n",
      "        values_arr.append(year_arr)\n",
      "    f = open('data/trade/import_prod.csv', 'wb')\n",
      "    writer = csv.writer(f)\n",
      "    writer.writerows(values_arr)\n",
      "    f.close()\n",
      "    \n",
      "def create_export_partner_csv():\n",
      "    years = ['1995', '1996', '1997', '1998', '1999', '2000', '2001', '2002', '2003', '2004', '2005', '2006', '2007', '2008', '2009', '2010', '2011']\n",
      "    countries = load_country_dict().keys()\n",
      "    values_arr = []\n",
      "    countries_proxy = []\n",
      "    for country in countries:\n",
      "        countries_proxy.append(country)\n",
      "    values_arr.append(countries_proxy)\n",
      "    for year in years:\n",
      "        year_arr = []\n",
      "        for country in countries:\n",
      "            year_arr.append(calc_export_partner_variance(year, country))\n",
      "        values_arr.append(year_arr)\n",
      "    f = open('data/trade/export_part.csv', 'wb')\n",
      "    writer = csv.writer(f)\n",
      "    writer.writerows(values_arr)\n",
      "    f.close()\n",
      "    \n",
      "def create_import_partner_csv():\n",
      "    years = ['1995', '1996', '1997', '1998', '1999', '2000', '2001', '2002', '2003', '2004', '2005', '2006', '2007', '2008', '2009', '2010', '2011']\n",
      "    countries = load_country_dict().keys()\n",
      "    values_arr = []\n",
      "    countries_proxy = []\n",
      "    for country in countries:\n",
      "        countries_proxy.append(country)\n",
      "    values_arr.append(countries_proxy)\n",
      "    for year in years:\n",
      "        year_arr = []\n",
      "        for country in countries:\n",
      "            year_arr.append(calc_import_partner_variance(year, country))\n",
      "        values_arr.append(year_arr)\n",
      "    f = open('data/trade/import_part.csv', 'wb')\n",
      "    writer = csv.writer(f)\n",
      "    writer.writerows(values_arr)\n",
      "    f.close()\n",
      "    "
     ],
     "language": "python",
     "metadata": {},
     "outputs": [],
     "prompt_number": 2
    },
    {
     "cell_type": "markdown",
     "metadata": {},
     "source": [
      "The above functions neatly organized the scraped export and import data into .csv files, which will be easy to load into more complex functions that we will define now:\n",
      "<br />\n",
      "<br />\n",
      "1. **load_country_product_data**: this function simply loads our .csv files and returns an array of the products imported and exported by a given country for a given year."
     ]
    },
    {
     "cell_type": "code",
     "collapsed": false,
     "input": [
      "def load_country_product_data(year, country):\n",
      "    \"\"\"\n",
      "    This function explores the data that has been previously scraped and written to files by the function write_data_to_files(), and returns an array of the products imported and exported by a given country for a given year.\n",
      "    \"\"\"\n",
      "    \n",
      "    f = open('data/prod/' + country + '/' + str(year) + '.txt', 'rU')\n",
      "    reader = csv.reader(f)\n",
      "    product_array = []\n",
      "    for row in reader:\n",
      "        product_array.append(row)\n",
      "    f.close()\n",
      "    return product_array"
     ],
     "language": "python",
     "metadata": {},
     "outputs": [],
     "prompt_number": 33
    },
    {
     "cell_type": "markdown",
     "metadata": {},
     "source": [
      "'2. **load_country_partner_data**: this function explores the data that has been previously scraped and written to files by the function write_data_to_files(), and loads an array of the import and export partners for a given country for a given year."
     ]
    },
    {
     "cell_type": "code",
     "collapsed": false,
     "input": [
      "def load_country_partner_data(year, country):\n",
      "    \"\"\"\n",
      "    This function explores the data that has been previously scraped and written to files by the function write_data_to_files(), and loads an array of the import and export partners for a given country for a given year.\n",
      "    \"\"\"\n",
      "    \n",
      "    f = open('data/part/' + country + '/' + str(year) + '.txt', 'rU')\n",
      "    reader = csv.reader(f)\n",
      "    partner_array = []\n",
      "    for row in reader:\n",
      "        partner_array.append(row)\n",
      "    f.close()\n",
      "    return partner_array"
     ],
     "language": "python",
     "metadata": {},
     "outputs": [],
     "prompt_number": 34
    },
    {
     "cell_type": "markdown",
     "metadata": {},
     "source": [
      "'3. **get_product_breakdown**: This function breaks down each product to give us the percentage mix of a given country's imports and exports for a given year."
     ]
    },
    {
     "cell_type": "code",
     "collapsed": false,
     "input": [
      "def get_product_breakdown(year, country):\n",
      "    \"\"\"\n",
      "    This function breaks down each product to give us the percentage mix of a given country's imports and exports for a given year.\n",
      "    \"\"\"\n",
      "    \n",
      "    product_array = load_country_product_data(year, country)\n",
      "    total_exports = 0\n",
      "    total_imports = 0\n",
      "    for i in range(len(product_array)):\n",
      "        total_exports += float(product_array[i][1])\n",
      "        total_imports += float(product_array[i][2])\n",
      "    product_mix_array = []\n",
      "    for i in range(len(product_array)):\n",
      "        if total_exports != 0 and total_imports != 0:\n",
      "            temp = []\n",
      "            temp.append(product_array[i][0])\n",
      "            temp.append(float(product_array[i][1])/float(total_exports)*float(100))\n",
      "            temp.append(float(product_array[i][2])/float(total_imports)*float(100))\n",
      "            product_mix_array.append(temp)\n",
      "        else:\n",
      "            print country\n",
      "    return product_mix_array\n"
     ],
     "language": "python",
     "metadata": {},
     "outputs": [],
     "prompt_number": 35
    },
    {
     "cell_type": "markdown",
     "metadata": {},
     "source": [
      "'4. **get_partner_breakdown**: This function breaks down each partner to give us the percentage mix of a given country's imports and exports for a given year."
     ]
    },
    {
     "cell_type": "code",
     "collapsed": false,
     "input": [
      "def get_partner_breakdown(year, country):\n",
      "    \"\"\"\n",
      "    This function breaks down each partner to give us the percentage mix of a given country's imports and exports for a given year.\n",
      "    \"\"\"\n",
      "    \n",
      "    partner_array = load_country_partner_data(year, country)\n",
      "    total_exports = 0\n",
      "    total_imports = 0\n",
      "    partner_return = []\n",
      "    for i in range(len(partner_array)):\n",
      "        total_exports += float(partner_array[i][1])\n",
      "        total_imports += float(partner_array[i][2])\n",
      "    product_mix_array = []\n",
      "    for i in range(len(partner_array)):\n",
      "        if total_exports != 0 and total_imports != 0:\n",
      "            temp = []\n",
      "            temp.append(partner_array[i][0])\n",
      "            temp.append(float(partner_array[i][1])/float(total_exports)*float(100))\n",
      "            temp.append(float(partner_array[i][2])/float(total_imports)*float(100))\n",
      "            partner_return.append(temp)\n",
      "        else:\n",
      "            print country\n",
      "    return partner_return"
     ],
     "language": "python",
     "metadata": {},
     "outputs": [],
     "prompt_number": 36
    },
    {
     "cell_type": "markdown",
     "metadata": {},
     "source": [
      "'5. **categorize_products**: This function breaks down the product mix into the 21 categories provided in order to find the diversity of trade. This is necessary because the types of goods in our dataset is simply way too many to analyze in a clear manner. These 21 categories are used as standards for categorizing traded goods around the world."
     ]
    },
    {
     "cell_type": "code",
     "collapsed": false,
     "input": [
      "def categorize_products(year, country):\n",
      "    \"\"\"\n",
      "    This function breaks down the product mix into the 21 categories provided in order to find the diversity of trade.\n",
      "    \"\"\"\n",
      "    \n",
      "    product_mix_array = get_product_breakdown(year, country)\n",
      "    product_export_mix_dict = {}\n",
      "    product_import_mix_dict = {}\n",
      "    for i in range(len(product_mix_array)):\n",
      "        hs4_id = product_mix_array[i][0]\n",
      "        if hs4_id[0:2] in product_export_mix_dict.keys():\n",
      "            product_export_mix_dict[hs4_id[0:2]] += float(product_mix_array[i][1])\n",
      "        else:\n",
      "            product_export_mix_dict[hs4_id[0:2]] = float(product_mix_array[i][1])\n",
      "        if hs4_id[0:2] in product_import_mix_dict.keys():\n",
      "            product_import_mix_dict[hs4_id[0:2]] += float(product_mix_array[i][2])\n",
      "        else:\n",
      "            product_import_mix_dict[hs4_id[0:2]] = float(product_mix_array[i][2])\n",
      "    return product_export_mix_dict, product_import_mix_dict"
     ],
     "language": "python",
     "metadata": {},
     "outputs": []
    },
    {
     "cell_type": "markdown",
     "metadata": {},
     "source": [
      "'6. **categorize_partners**: This function breaks down the partner mix into the various continents provided in order to find the diversities of import partners and export partners.  This is necessary because the number of countries in our dataset is to high to analyze in a clear manner.  We have defined these continent \"categories\" as our way of categorizing import and export partners."
     ]
    },
    {
     "cell_type": "code",
     "collapsed": false,
     "input": [
      "def categorize_partners(year, country):\n",
      "    \"\"\"\n",
      "    This function breaks down the partner mix into the 6 main continents provided in order to find the diversity of trade.\n",
      "    \"\"\"\n",
      "    \n",
      "    partner_mix_array = get_partner_breakdown(year, country)\n",
      "    partner_export_mix_dict = {}\n",
      "    partner_import_mix_dict = {}\n",
      "    for i in range(len(partner_mix_array)):\n",
      "        dest_id = partner_mix_array[i][0]\n",
      "        if dest_id[0:2] in partner_export_mix_dict.keys():\n",
      "            partner_export_mix_dict[dest_id[0:2]] += float(partner_mix_array[i][1])\n",
      "        else:\n",
      "            partner_export_mix_dict[dest_id[0:2]] = float(partner_mix_array[i][1])\n",
      "        if dest_id[0:2] in partner_import_mix_dict.keys():\n",
      "            partner_import_mix_dict[dest_id[0:2]] += float(partner_mix_array[i][2])\n",
      "        else:\n",
      "            partner_import_mix_dict[dest_id[0:2]] = float(partner_mix_array[i][2])\n",
      "    return partner_export_mix_dict, partner_import_mix_dict"
     ],
     "language": "python",
     "metadata": {},
     "outputs": [],
     "prompt_number": 1
    },
    {
     "cell_type": "heading",
     "level": 3,
     "metadata": {},
     "source": [
      "Trade Diversification Index (TDI)"
     ]
    },
    {
     "cell_type": "markdown",
     "metadata": {},
     "source": [
      "We will sidetrack a little to cover the next couple of functions. As mentioned, our project is to analyze the effects of the diversification of a given country's imported and exported goods/partners. Basically, we have 4 sub-datasets within export and import data -- amount of imported goods (for each category), amount of exported goods (for each category), amount of imported goods (for each partner country), amount of exported goods (for each partner country).\n",
      "<br />\n",
      "<br />\n",
      "With these, and associating diversification with variance, we will determine the variance of each sub-dataset, and then sum them up by using equal weights. The resulting value will be a given country's TDI."
     ]
    },
    {
     "cell_type": "code",
     "collapsed": false,
     "input": [
      "def calc_export_product_variance(year, country):\n",
      "    breakdown = categorize_products(year, country)[0].values()\n",
      "    for i in range(len(breakdown)):\n",
      "        breakdown[i] = round(breakdown[i], 2)\n",
      "    breakdown = array(breakdown)\n",
      "    return numpy.var(breakdown)\n",
      "\n",
      "def calc_import_product_variance(year, country):\n",
      "    breakdown = categorize_products(year, country)[1].values()\n",
      "    for i in range(len(breakdown)):\n",
      "        breakdown[i] = round(breakdown[i], 2)\n",
      "    breakdown = array(breakdown)\n",
      "    return numpy.var(breakdown)\n",
      "\n",
      "def calc_export_partner_variance(year, country):\n",
      "    breakdown = categorize_partners(year, country)[0].values()\n",
      "    for i in range(len(breakdown)):\n",
      "        breakdown[i] = round(breakdown[i], 2)\n",
      "    breakdown = array(breakdown)\n",
      "    return numpy.var(breakdown)\n",
      "\n",
      "def calc_import_partner_variance(year, country):\n",
      "    breakdown = categorize_partners(year, country)[1].values()\n",
      "    for i in range(len(breakdown)):\n",
      "        breakdown[i] = round(breakdown[i], 2)\n",
      "    breakdown = array(breakdown)\n",
      "    return numpy.var(breakdown)\n",
      "\n",
      "def calc_trade_index(year, country):\n",
      "    export_product_variance = calc_export_product_variance(year, country)\n",
      "    import_product_variance = calc_import_product_variance(year, country)\n",
      "    export_partner_variance = calc_export_partner_variance(year, country)\n",
      "    import_partner_variance = calc_import_partner_variance(year, country)\n",
      "    variances = array([export_product_variance, import_product_variance, export_partner_variance, import_partner_variance])\n",
      "    index = numpy.mean(variances)\n",
      "    return index\n"
     ],
     "language": "python",
     "metadata": {},
     "outputs": [],
     "prompt_number": 37
    },
    {
     "cell_type": "heading",
     "level": 2,
     "metadata": {},
     "source": [
      "Currency Exchange Rates"
     ]
    },
    {
     "cell_type": "markdown",
     "metadata": {},
     "source": [
      "For currency exchange, we are fortunate to find a site that can give us historical exchange rates for currencies across the world in .csv files. The website url is http://www.oanda.com/currency/historical-rates/ . We simply refer to the countries that already have import and export data above, and download the .csv file from the site if available."
     ]
    },
    {
     "cell_type": "heading",
     "level": 2,
     "metadata": {},
     "source": [
      "Stock Index Prices"
     ]
    },
    {
     "cell_type": "markdown",
     "metadata": {},
     "source": [
      "Again, from the countries that already have import and export data, we try to obtain historical prices for those countries' major stock composite indexes. The difficulty we face is that many smaller, less well-known countries do not have such information publicly (or freely) available. Furthermore, even though the Dow Jones have indexes for quite a number of the more major countries, they have commercialized their data and we are unable to obtain them at no cost. Nevertheless, we are still able to obtain the historical prices (from 1995-2011, subject to availability) for 25 major countries. The pool of countries is also diversified, and so we feel that this will still be sufficient for analysis.\n",
      "<br />\n",
      "<br />\n",
      "We essentially have 2 sources of obtaining historical stock index prices. The first is from respective stock exchange websites where we are able to download the .csv files manually. The other is from inquiring Yahoo! Finance from within Python itself (if the ticker symbol is present on the site)."
     ]
    },
    {
     "cell_type": "heading",
     "level": 3,
     "metadata": {},
     "source": [
      "Manual .csv Files"
     ]
    },
    {
     "cell_type": "markdown",
     "metadata": {},
     "source": [
      "After having downloaded the .csv files manually, we now load them into Python and extract only the essential information that we need. For instance, the .csv files give us opening price, closing price, highs and lows on a daily basis. We just need a single price for each given year in 1995-2011. We store them into .csv files again, containing just average annual prices against years from 1995-2011."
     ]
    },
    {
     "cell_type": "code",
     "collapsed": false,
     "input": [
      "def csvExtract(filename, country):\n",
      "    \"\"\"\n",
      "    This function takes a previously downloaded csv file of the historical daily prices for a stock index, and determines the average price for each year, storing the averages in another csv file with the designated country's name.\n",
      "    \"\"\"\n",
      "    \n",
      "    rawdata = []\n",
      "    filepath = 'data/stock/manual/' + filename\n",
      "    file2 = open(filepath, 'rU')\n",
      "    reader2 = csv.reader(file2)\n",
      "    for row in reader2:\n",
      "        rawdata.append(row)\n",
      "\n",
      "\tcurrentYear = rawdata[1][0][-2:]\n",
      "\tprices = []\n",
      "\tdata = []\n",
      "\tfor i in range(1, len(rawdata)):\n",
      "\t\tif rawdata[i][0][-2:] == currentYear:\n",
      "\t\t\tprices.append(float(rawdata[i][4]))\n",
      "\t\telse:\n",
      "\t\t\tdata.append([currentYear, float(sum(prices))/len(prices)])\n",
      "\t\t\tprices = []\n",
      "\t\t\tcurrentYear = rawdata[i][0][-2:]\n",
      "\t\t\tprices.append(float(rawdata[i][4]))\n",
      "\n",
      "\tcount = 0\n",
      "\tfor row in data:\n",
      "\t\tif count <= 12:\n",
      "\t\t\trow[0] = '20' + row[0]\n",
      "\t\t\tcount += 1\n",
      "\t\telif count >= 12:\n",
      "\t\t\trow[0] = '19' + row[0]\n",
      "\tdata = sorted(data)\n",
      "\n",
      "\twith open('data/stock/done/' + country + '.csv', 'w') as file1:\n",
      "\t\tfile1write = csv.writer(file1, delimiter = ',')\n",
      "\t\tfile1write.writerows(data)\n",
      "\n",
      "\tfile1.close()\n"
     ],
     "language": "python",
     "metadata": {},
     "outputs": [],
     "prompt_number": 38
    },
    {
     "cell_type": "heading",
     "level": 3,
     "metadata": {},
     "source": [
      "Yahoo! Finance"
     ]
    },
    {
     "cell_type": "markdown",
     "metadata": {},
     "source": [
      "For inquiring stock data from Yahoo! finance, there is a very neat Python library **ystockquote**, which returns historical prices in nested dictionaries. Again, for uniformity, we extracted the data that we need (since we are given daily opening/closing/high/low prices), and store them into .csv files with merely annual average prices against years from 1995-2011."
     ]
    },
    {
     "cell_type": "code",
     "collapsed": false,
     "input": [
      "def yahooExtract(ticker, country):\n",
      "    \"\"\"\n",
      "    This function uses the python library 'ystockquote', which requests historical prices and returns them as dictionaries.  We then determine the average prices for each year, storing these averages in a csv file with the given country's name.\n",
      "    \"\"\"\n",
      "    \n",
      "    rawdata = ystockquote.get_historical_prices(ticker, '1995-01-01', '2011-12-31')\n",
      "    \n",
      "    prices = {}\n",
      "    for date in rawdata.keys():\n",
      "        if date[0:4] in prices.keys():\n",
      "            prices[date[0:4]].append(float(rawdata[date]['Close']))\n",
      "        else:\n",
      "\t\t\tprices[date[0:4]] = []\n",
      "\t\t\tprices[date[0:4]].append(float(rawdata[date]['Close']))\n",
      "\n",
      "\tdata = []\n",
      "\tfor year in sorted(prices.keys()):\n",
      "\t\tdata.append([year, float(sum(prices[year]))/len(prices[year])])\n",
      "\n",
      "\twith open('data/stock/done/' + country + '.csv', 'w') as file1:\n",
      "\t\tfile1write = csv.writer(file1, delimiter = ',')\n",
      "\t\tfile1write.writerows(data)\n",
      "\n",
      "\tfile1.close()"
     ],
     "language": "python",
     "metadata": {},
     "outputs": [],
     "prompt_number": 39
    },
    {
     "cell_type": "markdown",
     "metadata": {},
     "source": [
      "We have now defined both functions that we will need to gather data from our 2 types of data sources for stock index prices. We have also predefined on a .csv file which of the 2 methods we will be using to collect the data from, as well as noting if their data is unattainable. The following code will write final .csv files into a single folder, where each .csv file is a given country's historical index price."
     ]
    },
    {
     "cell_type": "code",
     "collapsed": false,
     "input": [
      "def getIndexPrices():\n",
      "    \"\"\"\n",
      "    Now that we have defined all of the functions required, we run through a previously defined csv file that links each country to its stock index data source.  We also use the standard 3-letter country codes when making new csv files.\n",
      "    \"\"\"\n",
      "    \n",
      "    filename = 'data/stock/country_indexes.csv'\n",
      "    \n",
      "    indexes = {}\n",
      "    \n",
      "    csvfile = open(filename, 'rU')\n",
      "    reader = csv.reader(csvfile)\n",
      "    \n",
      "    for row in reader:\n",
      "        indexes[row[0]] = row[1:]\n",
      "    countryCodes = {}\n",
      "    csvfile2 = open('data/stock/country_codes.txt', 'rU')\n",
      "    reader2 = csv.reader(csvfile2)\n",
      "    for row in reader2:\n",
      "        countryCodes[row[1].lower()] = row[0]\n",
      "    \n",
      "    csvfile2.close()\n",
      "    \n",
      "    for country in indexes.keys():\n",
      "        countryCode = countryCodes[country.lower()]\n",
      "        if indexes[country][1] == 'manual':\n",
      "            csvExtract(indexes[country][2], countryCode)\n",
      "        else:\n",
      "            yahooExtract(indexes[country][1], countryCode)\n",
      "    csvfile.close()"
     ],
     "language": "python",
     "metadata": {},
     "outputs": [],
     "prompt_number": 40
    },
    {
     "cell_type": "heading",
     "level": 2,
     "metadata": {},
     "source": [
      "Economic Indicators"
     ]
    },
    {
     "cell_type": "markdown",
     "metadata": {},
     "source": [
      "Our last dataset is one of macroeconomic indicators.  Like currencies, we are able to manually download .csv files from the World Bank's database for World Development Indicators.  We have a lot of missing data, but we will cover that in the data cleaning portion of our project."
     ]
    },
    {
     "cell_type": "heading",
     "level": 2,
     "metadata": {},
     "source": [
      "Conclusion"
     ]
    },
    {
     "cell_type": "markdown",
     "metadata": {},
     "source": [
      "To recap, since we have numerous datasets and sources, we have now gathered the 4 required datasets for our analysis (in raw form) as .csv files. We do this because we would like to use both Python and R extensively, for data gathering, data cleaning, and data analysis, and having gathered data in the form of .csv files will give a seamless transition between the 2 programming languages. This way, we can utilize the strengths of different programming languages to our own advantage (Python libraries such as ystockquote, and R's statistical analysis tools)."
     ]
    },
    {
     "cell_type": "heading",
     "level": 2,
     "metadata": {},
     "source": [
      "References"
     ]
    },
    {
     "cell_type": "markdown",
     "metadata": {},
     "source": [
      "* The Observatory of Economic Complexity. \n",
      "    * Accessed with http://atlas.media.mit.edu/\n",
      "\n",
      "* The World Bank: World Development Indicators. \n",
      "    * Accessed with http://databank.worldbank.org/data/views/variableSelection/selectvariables.aspx?source=world-development-indicators\n",
      "\n",
      "* Oanda Currency Converter. \n",
      "    * Accessed with http://www.oanda.com/currency/converter/"
     ]
    }
   ],
   "metadata": {}
  }
 ]
}