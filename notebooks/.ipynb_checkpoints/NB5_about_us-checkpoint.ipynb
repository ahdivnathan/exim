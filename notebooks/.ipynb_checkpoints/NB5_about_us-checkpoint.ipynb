{
 "metadata": {
  "name": ""
 },
 "nbformat": 3,
 "nbformat_minor": 0,
 "worksheets": [
  {
   "cells": [
    {
     "cell_type": "heading",
     "level": 1,
     "metadata": {},
     "source": [
      "Carl Moos"
     ]
    },
    {
     "cell_type": "markdown",
     "metadata": {},
     "source": [
      "Carl is a junior at UC Berkeley studying Economics and Statistics.  He loves Statistics 133!"
     ]
    },
    {
     "cell_type": "heading",
     "level": 1,
     "metadata": {},
     "source": [
      "Ahdiv Nathan"
     ]
    },
    {
     "cell_type": "markdown",
     "metadata": {},
     "source": [
      "Ahdiv is a junior at UC Berkeley studying Economics, Statistics, and Applied Math.  He loves Statistics 133!"
     ]
    },
    {
     "cell_type": "heading",
     "level": 1,
     "metadata": {},
     "source": [
      "Anlin Winarto"
     ]
    },
    {
     "cell_type": "markdown",
     "metadata": {},
     "source": [
      "Winarto is a junior at UC Berkeley studying Statistics and Computer Science.  He loves Statistics 133!"
     ]
    },
    {
     "cell_type": "heading",
     "level": 1,
     "metadata": {},
     "source": [
      "William Yu"
     ]
    },
    {
     "cell_type": "markdown",
     "metadata": {},
     "source": [
      "William is a junior at UC Berkeley studying Applied Mathematics with a concentration in Statistics.  He loves Statistics 133!"
     ]
    }
   ],
   "metadata": {}
  }
 ]
}