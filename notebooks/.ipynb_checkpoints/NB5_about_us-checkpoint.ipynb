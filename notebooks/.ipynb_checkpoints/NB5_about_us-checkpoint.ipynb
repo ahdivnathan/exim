{
 "metadata": {
  "name": ""
 },
 "nbformat": 3,
 "nbformat_minor": 0,
 "worksheets": [
  {
   "cells": [
    {
     "cell_type": "markdown",
     "metadata": {},
     "source": [
      "We are a team of aspiring data scientists, engineers, consultants, and food critics from a variety of backgrounds, and we are brought together by our common interest in using data-driven methods in whatever our field of work may be.  We are all juniors with interests in consulting and finance, and while we are very passionate about our work, we love to work on side projects and are all very involved on campus."
     ]
    },
    {
     "cell_type": "heading",
     "level": 2,
     "metadata": {},
     "source": [
      "A little bit about each of us:"
     ]
    },
    {
     "cell_type": "markdown",
     "metadata": {},
     "source": [
      "**Carl Moos** is a junior at UC Berkeley studying Economics and Statistics.  He is a member of the Berkeley Club Soccer Team and is the president-elect of The Berkeley Group, a student-run nonprofit consulting firm that focuses on social impact consulting for companies across the country.  Carl enjoys long walks on the beach and Thai food.  He will be working at Cornerstone Research this summer as an economic consultant.\n",
      "\n",
      "**Anlin Winarto** is a junior at UC Berkeley studying Statistics and Computer Science.  He is a member of The Berkeley Group (along with Carl), and is very interested in applying data science to the world of finance.  Winarto has recently become a virtuoso of the Indonesian Gamelan, a string instrument typically found in the exotic islands of Java and Bali.  He is a huge fan of FC Barcelona, and was very sad with their loss to Atletico Madrid in the UEFA Champions League this year.  Winarto will be working at KPMG this summer, doing an internship in data analytics within their advisory practice.\n",
      "\n",
      "**William Yu** is a junior at UC Berkeley studying Applied Mathematics with a concentration in Statistics.  He is a talented member of the Chinese A Capella group, and loves playing Intramural Basketball with his friends.  William is a member of Venture Strategy Solutions, another student-run consulting firm, and is also involved with the Data Science Collaborative at Cal.  He is a connoisseur of Korean Food, and is a huge fan of Soft Tofu Soup and all-you-can-eat Korean Barbecue.  He will be working at Pricewaterhouse Coopers Risk Assurance this summer, and has a passion for using data-driven methods in the world of consulting.\n",
      "\n",
      "**Ahdiv Nathan** is a junior at UC Berkeley studying Economics, Statistics, and Applied Mathematics.  He is a member of the Berkeley Club Tennis Team and is a member of Berkeley Consulting, another student-run consulting firm.  He is also an aspiring break dancer, but has not started learning yet - we will follow up with him in a few years.  Ahdiv is very interested in applying data science to finance, and will be interning at Goldman Sachs' investment banking division this summer."
     ]
    }
   ],
   "metadata": {}
  }
 ]
}