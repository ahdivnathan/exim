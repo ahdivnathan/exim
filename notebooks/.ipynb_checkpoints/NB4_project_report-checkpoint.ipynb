{
 "metadata": {
  "name": ""
 },
 "nbformat": 3,
 "nbformat_minor": 0,
 "worksheets": [
  {
   "cells": [
    {
     "cell_type": "heading",
     "level": 2,
     "metadata": {},
     "source": [
      "Team members responsible for this notebook:"
     ]
    },
    {
     "cell_type": "markdown",
     "metadata": {},
     "source": [
      "* Team member 1: **William Yu** - contributed markdown\n",
      "* Team member 2: **Ahdiv Nathan** - contributed markdown\n",
      "* Team member 3: **Winarto Anlin** - contributed markdown\n",
      "* Team member 4: **Carl Moos** - contributed markdown"
     ]
    },
    {
     "cell_type": "heading",
     "level": 2,
     "metadata": {},
     "source": [
      "Problem"
     ]
    },
    {
     "cell_type": "markdown",
     "metadata": {},
     "source": [
      "International trade policy and its consequences have long been a contentious issue in economics. After World War II, industrialized nations began a reversal of the previously protectionist era of trade policy which expanded to developing countries through the following decades. By the 1990's increasingly liberal global trade policy had been established including Asia, South America, and Eastern Europe (to a lesser extent Africa and the Middle East). However, the effects of this liberalization have been mixed and at times underperformed expectations. Of the many, one important consequence of trade liberalization is trade diversity (of international trade partners and of products).<sup>1</sup> With our project we attempt to assess the influence of this diversity on macroeconomic performance in the last 18 years.\n",
      "\n",
      "To develop a singular metric of trade diversity, we constructed a Trade Diversity Index (TDI). We calculated the variances of trade concentration for each nation's products and international partners across both imports and exports respectively. The average of these four variances is the country's TDI value. As a proxy for macroeconomic performance we used stock indices, exchange rates, and GDP growth among others. We utilized many sources in order to collect such a variety and depth of data including the BACI International Trade Database, the Center for Economic Complexity, the World Bank, and Yahoo Finance. \n",
      "\n",
      "The time-lag between trade diversity changes and a measurable economic result can be a confounding factor in these analysis. To account for this we perform both a matched-year regression across our variables of interest as well as a lagged-year regression comparing the TDI with economic indicators **two** years following the TDI date. "
     ]
    },
    {
     "cell_type": "heading",
     "level": 2,
     "metadata": {},
     "source": [
      "Difficulties with Data"
     ]
    },
    {
     "cell_type": "markdown",
     "metadata": {},
     "source": [
      "Performing a global economic analysis involving multiple variables requires working with a very large sets of data gathered in different mannners from various sources. This process presents the complication of standardization. Certain macroeconomic indicators are not well tracked in many nations, many international stock indices (particularly of smaller nations) did not seem to retain easily accessible historical data, and finding historical exchange rate data turned out to be far more tedious than expected.( _**elaborate**_ )Thus there was potential for incomplete and misrepresentative data. In the end, after many hours scouring sources for more reliable and more robust sets of data, we were able to consolidate a data set of _**list some metric of our data**_. \n",
      "\n",
      "The goal of gathering and cleaning was to store all data in dataframes for later analysis. This process also took significant time in order to ensure complete congruity between dataframe formats that is vital for an accurate regression. Further obscuring this process was the fact each observation for our regressions of TDI data on our macroeconomic indicators had three identifying parameters that had to be perfectly indexed for both data sets: the variable measured, the year, and the country. As such we had to be meticulous with our pre-analysis cleaning and setup of data.\n",
      "\n",
      "Finally, our variables of interest (trade diversity and macroeconomic performance) are results of such an immense group of economic, political, and social factors that ultimately there were sub-trends within our data that needed to be addressed in a more nuanced manner. We used regressions with robust standard errors as well as k-means clustering analysis to attempt to identify and control for these factors."
     ]
    },
    {
     "cell_type": "heading",
     "level": 2,
     "metadata": {},
     "source": [
      "Main Challenge"
     ]
    },
    {
     "cell_type": "markdown",
     "metadata": {},
     "source": [
      "Our main challenge as a group was two-fold. First, and as mentioned above, the gathering of this immense data set was tedious, time-consuming, and intricate. Second, and more importantly to the analysis, with such a high-level data set that describes a host of international dynamics, being able to hone in on a meaningful analysis can be difficult. Adjusting for irregularities in datasets, designing regressions between meaningful metrics, and developing the methodolgy behind the Trade Diversification Index were very challenging parts of the project for our group. \n",
      "\n",
      "Our work in adjusting for irregularities in datasets was covered in our challenges with data. The obstacle of regression design was briefly mentioned as well. After exploring existing economic literature and weighing the options of implementing a linear regression versus a implementing a quadratic regression we the best fit for our flexible purposes appeared to be the linear model.<sup>2</sup>\n",
      "\n",
      "Construction of the Trade Diversification Index (TDI) was vital to the rest of our analysis and thus required much effort to ensure a representative index value. We considered using am absolute number of trade partners and products but realized this would bias our results as an larger nations would then naturally tend to have a higher index value. Such potential for omitted variable bias is always an issue and we did our best to create the TDI in a manner to best avoid it. In the end we used the variance method described previously. \n",
      "\n",
      "In sum, in order to explore such a sweeping and broad-reaching hypothesis involving international trade we had to be meticulous and thoughtful about our methodology. Every step of the process involved coordination across diverse data sources and concentration around a unified question.  Guaranteeing clarity, relevance, and power of our results required an ardous effort by every member involved. Luckily, we had a great time working together!"
     ]
    },
    {
     "cell_type": "heading",
     "level": 2,
     "metadata": {},
     "source": [
      "Presentation of Findings"
     ]
    },
    {
     "cell_type": "heading",
     "level": 3,
     "metadata": {},
     "source": [
      "Trade Diversification Index"
     ]
    },
    {
     "cell_type": "markdown",
     "metadata": {},
     "source": [
      "To begin, we created a Trade Diversification Index (TDI) in order to gauge the diversity of trade for a given country in a given year.  Our goal in this project was to analyze how a country's TDI affects its macroeconomic performance.  The TDI was calculated as follows: <br /> 1. For a particular year, calculate the percentage of a country's products imported from each product category.  Call this the \"Products Imported\" variable.  We will look up the product categories using the Harmonized Trade Classification System (HS4). <br /> 2. Calculate the variance of the Products Imported variable. <br /> 3. Complete steps (1) and (2) for products exported, import partners, and export partners to find variance of Products Exported, variance of Import Partners, and variance of Export Partners.  Import and Export Partners were classified by continent. <br /> 4. Take the average of the 4 variances to create the TDI.  A low TDI therefore implies that the country's trade is well diversified, while a high TDI implies that the country's trade is concentrated in some way that causes it to be poorly diversified."
     ]
    },
    {
     "cell_type": "heading",
     "level": 3,
     "metadata": {},
     "source": [
      "Regression Analysis"
     ]
    },
    {
     "cell_type": "markdown",
     "metadata": {},
     "source": [
      "In order to understand how a country's diversity of trade affects its macroeconomic performance, we regressed TDI on the following variables:\n",
      "<br />1. Exchange Rate\n",
      "<br />2. Stock index returns\n",
      "<br />3. CO2 Emissions\n",
      "<br />4. Exports Growth\n",
      "<br />5. GDP Growth\n",
      "<br />6. Gross Domestic Savings\n",
      "<br />7. Net Migration\n",
      "<br />8. Infant Mortality\n",
      "<br />9. Real Interest Rate\n",
      "<br />\n",
      "<br />When conducted the regression of TDI on Exchange Rate as follows:"
     ]
    },
    {
     "cell_type": "code",
     "collapsed": false,
     "input": [
      "%load_ext rmagic"
     ],
     "language": "python",
     "metadata": {},
     "outputs": [
      {
       "output_type": "stream",
       "stream": "stdout",
       "text": [
        "The rmagic extension is already loaded. To reload it, use:\n",
        "  %reload_ext rmagic\n"
       ]
      }
     ],
     "prompt_number": 6
    },
    {
     "cell_type": "code",
     "collapsed": false,
     "input": [
      "from IPython.core.display import Image\n",
      "Image(filename=\"../visualizations/clusterTrade.png\")"
     ],
     "language": "python",
     "metadata": {},
     "outputs": [
      {
       "ename": "IOError",
       "evalue": "[Errno 2] No such file or directory: u'../visualizations/clusterTrade.png'",
       "output_type": "pyerr",
       "traceback": [
        "\u001b[0;31m---------------------------------------------------------------------------\u001b[0m\n\u001b[0;31mIOError\u001b[0m                                   Traceback (most recent call last)",
        "\u001b[0;32m<ipython-input-24-f392172d9c19>\u001b[0m in \u001b[0;36m<module>\u001b[0;34m()\u001b[0m\n\u001b[1;32m      1\u001b[0m \u001b[0;32mfrom\u001b[0m \u001b[0mIPython\u001b[0m\u001b[0;34m.\u001b[0m\u001b[0mcore\u001b[0m\u001b[0;34m.\u001b[0m\u001b[0mdisplay\u001b[0m \u001b[0;32mimport\u001b[0m \u001b[0mImage\u001b[0m\u001b[0;34m\u001b[0m\u001b[0m\n\u001b[0;32m----> 2\u001b[0;31m \u001b[0mImage\u001b[0m\u001b[0;34m(\u001b[0m\u001b[0mfilename\u001b[0m\u001b[0;34m=\u001b[0m\u001b[0;34m\"../visualizations/clusterTrade.png\"\u001b[0m\u001b[0;34m)\u001b[0m\u001b[0;34m\u001b[0m\u001b[0m\n\u001b[0m",
        "\u001b[0;32m/Users/dk/anaconda/python.app/Contents/lib/python2.7/site-packages/IPython/core/display.pyc\u001b[0m in \u001b[0;36m__init__\u001b[0;34m(self, data, url, filename, format, embed, width, height, retina)\u001b[0m\n\u001b[1;32m    599\u001b[0m         \u001b[0mself\u001b[0m\u001b[0;34m.\u001b[0m\u001b[0mheight\u001b[0m \u001b[0;34m=\u001b[0m \u001b[0mheight\u001b[0m\u001b[0;34m\u001b[0m\u001b[0m\n\u001b[1;32m    600\u001b[0m         \u001b[0mself\u001b[0m\u001b[0;34m.\u001b[0m\u001b[0mretina\u001b[0m \u001b[0;34m=\u001b[0m \u001b[0mretina\u001b[0m\u001b[0;34m\u001b[0m\u001b[0m\n\u001b[0;32m--> 601\u001b[0;31m         \u001b[0msuper\u001b[0m\u001b[0;34m(\u001b[0m\u001b[0mImage\u001b[0m\u001b[0;34m,\u001b[0m \u001b[0mself\u001b[0m\u001b[0;34m)\u001b[0m\u001b[0;34m.\u001b[0m\u001b[0m__init__\u001b[0m\u001b[0;34m(\u001b[0m\u001b[0mdata\u001b[0m\u001b[0;34m=\u001b[0m\u001b[0mdata\u001b[0m\u001b[0;34m,\u001b[0m \u001b[0murl\u001b[0m\u001b[0;34m=\u001b[0m\u001b[0murl\u001b[0m\u001b[0;34m,\u001b[0m \u001b[0mfilename\u001b[0m\u001b[0;34m=\u001b[0m\u001b[0mfilename\u001b[0m\u001b[0;34m)\u001b[0m\u001b[0;34m\u001b[0m\u001b[0m\n\u001b[0m\u001b[1;32m    602\u001b[0m \u001b[0;34m\u001b[0m\u001b[0m\n\u001b[1;32m    603\u001b[0m         \u001b[0;32mif\u001b[0m \u001b[0mretina\u001b[0m\u001b[0;34m:\u001b[0m\u001b[0;34m\u001b[0m\u001b[0m\n",
        "\u001b[0;32m/Users/dk/anaconda/python.app/Contents/lib/python2.7/site-packages/IPython/core/display.pyc\u001b[0m in \u001b[0;36m__init__\u001b[0;34m(self, data, url, filename)\u001b[0m\n\u001b[1;32m    303\u001b[0m         \u001b[0mself\u001b[0m\u001b[0;34m.\u001b[0m\u001b[0mfilename\u001b[0m \u001b[0;34m=\u001b[0m \u001b[0mNone\u001b[0m \u001b[0;32mif\u001b[0m \u001b[0mfilename\u001b[0m \u001b[0;32mis\u001b[0m \u001b[0mNone\u001b[0m \u001b[0;32melse\u001b[0m \u001b[0municode\u001b[0m\u001b[0;34m(\u001b[0m\u001b[0mfilename\u001b[0m\u001b[0;34m)\u001b[0m\u001b[0;34m\u001b[0m\u001b[0m\n\u001b[1;32m    304\u001b[0m \u001b[0;34m\u001b[0m\u001b[0m\n\u001b[0;32m--> 305\u001b[0;31m         \u001b[0mself\u001b[0m\u001b[0;34m.\u001b[0m\u001b[0mreload\u001b[0m\u001b[0;34m(\u001b[0m\u001b[0;34m)\u001b[0m\u001b[0;34m\u001b[0m\u001b[0m\n\u001b[0m\u001b[1;32m    306\u001b[0m \u001b[0;34m\u001b[0m\u001b[0m\n\u001b[1;32m    307\u001b[0m     \u001b[0;32mdef\u001b[0m \u001b[0mreload\u001b[0m\u001b[0;34m(\u001b[0m\u001b[0mself\u001b[0m\u001b[0;34m)\u001b[0m\u001b[0;34m:\u001b[0m\u001b[0;34m\u001b[0m\u001b[0m\n",
        "\u001b[0;32m/Users/dk/anaconda/python.app/Contents/lib/python2.7/site-packages/IPython/core/display.pyc\u001b[0m in \u001b[0;36mreload\u001b[0;34m(self)\u001b[0m\n\u001b[1;32m    621\u001b[0m         \u001b[0;34m\"\"\"Reload the raw data from file or URL.\"\"\"\u001b[0m\u001b[0;34m\u001b[0m\u001b[0m\n\u001b[1;32m    622\u001b[0m         \u001b[0;32mif\u001b[0m \u001b[0mself\u001b[0m\u001b[0;34m.\u001b[0m\u001b[0membed\u001b[0m\u001b[0;34m:\u001b[0m\u001b[0;34m\u001b[0m\u001b[0m\n\u001b[0;32m--> 623\u001b[0;31m             \u001b[0msuper\u001b[0m\u001b[0;34m(\u001b[0m\u001b[0mImage\u001b[0m\u001b[0;34m,\u001b[0m\u001b[0mself\u001b[0m\u001b[0;34m)\u001b[0m\u001b[0;34m.\u001b[0m\u001b[0mreload\u001b[0m\u001b[0;34m(\u001b[0m\u001b[0;34m)\u001b[0m\u001b[0;34m\u001b[0m\u001b[0m\n\u001b[0m\u001b[1;32m    624\u001b[0m             \u001b[0;32mif\u001b[0m \u001b[0mself\u001b[0m\u001b[0;34m.\u001b[0m\u001b[0mretina\u001b[0m\u001b[0;34m:\u001b[0m\u001b[0;34m\u001b[0m\u001b[0m\n\u001b[1;32m    625\u001b[0m                 \u001b[0mself\u001b[0m\u001b[0;34m.\u001b[0m\u001b[0m_retina_shape\u001b[0m\u001b[0;34m(\u001b[0m\u001b[0;34m)\u001b[0m\u001b[0;34m\u001b[0m\u001b[0m\n",
        "\u001b[0;32m/Users/dk/anaconda/python.app/Contents/lib/python2.7/site-packages/IPython/core/display.pyc\u001b[0m in \u001b[0;36mreload\u001b[0;34m(self)\u001b[0m\n\u001b[1;32m    308\u001b[0m         \u001b[0;34m\"\"\"Reload the raw data from file or URL.\"\"\"\u001b[0m\u001b[0;34m\u001b[0m\u001b[0m\n\u001b[1;32m    309\u001b[0m         \u001b[0;32mif\u001b[0m \u001b[0mself\u001b[0m\u001b[0;34m.\u001b[0m\u001b[0mfilename\u001b[0m \u001b[0;32mis\u001b[0m \u001b[0;32mnot\u001b[0m \u001b[0mNone\u001b[0m\u001b[0;34m:\u001b[0m\u001b[0;34m\u001b[0m\u001b[0m\n\u001b[0;32m--> 310\u001b[0;31m             \u001b[0;32mwith\u001b[0m \u001b[0mopen\u001b[0m\u001b[0;34m(\u001b[0m\u001b[0mself\u001b[0m\u001b[0;34m.\u001b[0m\u001b[0mfilename\u001b[0m\u001b[0;34m,\u001b[0m \u001b[0mself\u001b[0m\u001b[0;34m.\u001b[0m\u001b[0m_read_flags\u001b[0m\u001b[0;34m)\u001b[0m \u001b[0;32mas\u001b[0m \u001b[0mf\u001b[0m\u001b[0;34m:\u001b[0m\u001b[0;34m\u001b[0m\u001b[0m\n\u001b[0m\u001b[1;32m    311\u001b[0m                 \u001b[0mself\u001b[0m\u001b[0;34m.\u001b[0m\u001b[0mdata\u001b[0m \u001b[0;34m=\u001b[0m \u001b[0mf\u001b[0m\u001b[0;34m.\u001b[0m\u001b[0mread\u001b[0m\u001b[0;34m(\u001b[0m\u001b[0;34m)\u001b[0m\u001b[0;34m\u001b[0m\u001b[0m\n\u001b[1;32m    312\u001b[0m         \u001b[0;32melif\u001b[0m \u001b[0mself\u001b[0m\u001b[0;34m.\u001b[0m\u001b[0murl\u001b[0m \u001b[0;32mis\u001b[0m \u001b[0;32mnot\u001b[0m \u001b[0mNone\u001b[0m\u001b[0;34m:\u001b[0m\u001b[0;34m\u001b[0m\u001b[0m\n",
        "\u001b[0;31mIOError\u001b[0m: [Errno 2] No such file or directory: u'../visualizations/clusterTrade.png'"
       ]
      }
     ],
     "prompt_number": 24
    },
    {
     "cell_type": "heading",
     "level": 2,
     "metadata": {},
     "source": [
      "References"
     ]
    },
    {
     "cell_type": "markdown",
     "metadata": {},
     "source": [
      "<sup>1 </sup>The World Bank Poverty Reduction and Economic Management. \"Economic Growth in the 1990's\" Chapter 5: Trade Liberalization- Why So Much Controversy? Accessed with http://www1.worldbank.org/prem/lessons1990s/chaps/05-Ch05_kl.pdf\n",
      "\n",
      "<sup>2 </sup>The International Labor Organization. \"Trade diversification, income, and growth: what do we know\" Accessed with http://www.ilo.org/wcmsp5/groups/public/---ed_emp/documents/presentation/wcm_041814.pdf"
     ]
    },
    {
     "cell_type": "markdown",
     "metadata": {},
     "source": [
      "_old stuff and instructions_ **delete**"
     ]
    },
    {
     "cell_type": "markdown",
     "metadata": {},
     "source": [
      "In this notebook, you'll sumarize your finding for the class presentation. \n",
      "\n",
      "\n",
      "The class presentation will use this notebook in slide mode, as I do during lecture time.\n",
      "\n",
      "You'll need to download the following [zip file](https://github.com/fperez/nb-slideshow-template/archive/master.zip), unzip it, and run the following notebook <code>install-support.ipynb</code> to install the slide capabilities.\n",
      "\n",
      "The notebook <code>notebook-slideshow-example.ipynb</code> will give you examples on how to use slides within the iPython notebook.  \n",
      "\n",
      "You should also write this notebook so that you can convert it nicely into a pdf document using the commands\n",
      "\n",
      "    ipython nbconvert NB4_report.pynb --to latex\n",
      "    pdflatex NB4_report.tex\n",
      "    \n",
      "See [here](http://ipython.org/ipython-doc/rel-1.0.0/interactive/nbconvert.html) for further references on how to do that. \n",
      "\n",
      "In this notebook, you'll\n",
      "\n",
      "* describe your problem as stated in the propectus \n",
      " \n",
      " \n",
      "* comment on your data sources, on their format, on the difficulties to get them\n",
      "\n",
      "\n",
      "* present the main challenge you encountered\n",
      "\n",
      "\n",
      "* present your finding in the form of expresive graphics\n",
      "\n",
      "Be sure to include an introduction section motivating your visualizations, with a description of the substantive context and why it is interesting.\n",
      "\n",
      "\n",
      "Cite the source of the data and any other references that you used in carrying out your project.\n"
     ]
    },
    {
     "cell_type": "markdown",
     "metadata": {},
     "source": [
      "##Team members responsible for this notebook:\n",
      "\n",
      "List the team members contributing to this notebook, along with their responsabilities:\n",
      "\n",
      "* team member 1 **name**: team member 1 **responsabilities**\n",
      "* team member 2 **name**: team member 2 **responsabilities**\n",
      "* etc.\n",
      "\n",
      "I advise you to work at least in pairs for each project notebook, as you did for the homework assignments. Of course, all team members may participate to each notebook. "
     ]
    }
   ],
   "metadata": {}
  }
 ]
}