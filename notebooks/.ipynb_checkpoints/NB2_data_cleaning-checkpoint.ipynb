{
 "metadata": {
  "name": ""
 },
 "nbformat": 3,
 "nbformat_minor": 0,
 "worksheets": [
  {
   "cells": [
    {
     "cell_type": "heading",
     "level": 2,
     "metadata": {},
     "source": [
      "Overview"
     ]
    },
    {
     "cell_type": "markdown",
     "metadata": {},
     "source": [
      "This R Script will take the scraped data from our CSV files and put it into R Data Frames for easy analysis.  The output of the final functions will be a Data Frame with years for rows and countries for columns.  Additionally, we will make some basic plots to identify areas of analysis that we should explore more thoroughly.  Here we also introduce our macroeconomic data and foreign exchange rate data, both of which were scraped manually due to a simple interface provided by our source websites."
     ]
    },
    {
     "cell_type": "code",
     "collapsed": false,
     "input": [
      "%load_ext rmagic"
     ],
     "language": "python",
     "metadata": {},
     "outputs": [
      {
       "output_type": "stream",
       "stream": "stdout",
       "text": [
        "The rmagic extension is already loaded. To reload it, use:\n",
        "  %reload_ext rmagic\n"
       ]
      }
     ],
     "prompt_number": 2
    },
    {
     "cell_type": "heading",
     "level": 2,
     "metadata": {},
     "source": [
      "Import and Export Data"
     ]
    },
    {
     "cell_type": "markdown",
     "metadata": {},
     "source": [
      "We will first gather the trade data that we have stored in the csv files. Each of the csv files contains the variance of the particular category for each country in each year.  We will gather the trade data in order to understand how diversity of trade affects countries' economic performance.\n",
      "<br />\n",
      "<br />\n",
      "For import and export data, most of the data cleaning has been done largely during the data gathering phase, since we scrapped the website to collect the just the data that we need."
     ]
    },
    {
     "cell_type": "code",
     "collapsed": false,
     "input": [
      "%%R\n",
      "\n",
      "gatherTradeData = function(filename) {\n",
      "  trade = read.csv(filename)\n",
      "  years = 1995:2011\n",
      "  rownames(trade) = years\n",
      "  return(trade)\n",
      "}\n",
      "\n",
      "getExportPartnerVariances = function() {\n",
      "  return(gatherTradeData(\"./data/trade/export_part.csv\"))\n",
      "}\n",
      "getExportProductVariances = function() {\n",
      "  return(gatherTradeData(\"./data/trade/export_prod.csv\"))\n",
      "}\n",
      "getImportPartnerVariances = function() {\n",
      "  return(gatherTradeData(\"./data/trade/import_part.csv\"))\n",
      "}\n",
      "getImportProductVariances = function() {\n",
      "  return(gatherTradeData(\"./data/trade/import_prod.csv\"))\n",
      "}\n",
      "getTradeIndex = function() {\n",
      "  return(gatherTradeData(\"./data/trade/trade_index.csv\"))\n",
      "}"
     ],
     "language": "python",
     "metadata": {},
     "outputs": [],
     "prompt_number": 3
    },
    {
     "cell_type": "heading",
     "level": 2,
     "metadata": {},
     "source": [
      "Currency Exchange Rates"
     ]
    },
    {
     "cell_type": "markdown",
     "metadata": {},
     "source": [
      "Now we will pull the exchange rate data from the csv files we have gathered from Oanda, an open source ForEx database.\n",
      "<br />\n",
      "<br />\n",
      "This dataset is probably the most complex for analysis to be done during the next stage. As you might have guessed, the nominal values we have gathered in our data are in different currencies, and hence, we are unable to compare across them simply as is later on. We decided to use **returns** instead, and analyze how returns Year-on-Year has changed with respect to diversification of trade for a given country. We also set NA for data that is not available."
     ]
    },
    {
     "cell_type": "code",
     "collapsed": false,
     "input": [
      "%%R\n",
      "\n",
      "gatherExchangeData = function() {\n",
      "  exchangePath = \"./data/exchange_rate/\"\n",
      "  exchangeFiles = list.files(exchangePath)\n",
      "  \n",
      "  exchangeCountries = c()\n",
      "  exchangeNew = TRUE\n",
      "  for (i in 1:length(exchangeFiles)) {\n",
      "    exchangeCountries[i] = substring(exchangeFiles[i], 1, 3)\n",
      "    exchangeFilePath = paste(\"./data/exchange_rate/\", exchangeFiles[i], sep=\"\")\n",
      "    exchangeRawData = read.csv(exchangeFilePath, header = FALSE)\n",
      "    exchangeRawData = exchangeRawData[-1,]\n",
      "    exchangeRawData = exchangeRawData[-1,]\n",
      "    exchangeRawData = exchangeRawData[-1,]\n",
      "    exchangeRawData = exchangeRawData[-dim(exchangeRawData)[1],]\n",
      "    exchangeRawData = exchangeRawData[-dim(exchangeRawData)[1],]\n",
      "    exchangeRawData = exchangeRawData[-dim(exchangeRawData)[1],]\n",
      "    exchangeRawData = exchangeRawData[c(dim(exchangeRawData)[1]:1),]\n",
      "    exchangeRawData = exchangeRawData[2]\n",
      "    if (dim(exchangeRawData)[1]<17) {\n",
      "      dummyYears = 1:(17-dim(exchangeRawData)[1])\n",
      "      V2 = rep(NaN, length(dummyYears))\n",
      "      dummyData = data.frame(V2)\n",
      "      exchangePrices = rbind(dummyData, exchangeRawData)\n",
      "    }\n",
      "    else {\n",
      "      exchangePrices = exchangeRawData\n",
      "    }\n",
      "    if (exchangeNew == TRUE) {\n",
      "      exchanges = exchangePrices\n",
      "      exchangeNew = FALSE\n",
      "    }\n",
      "    else {\n",
      "      exchanges = cbind(exchanges, exchangePrices)\n",
      "    }\n",
      "  }\n",
      "  \n",
      "  years = 1995:2011\n",
      "  rownames(exchanges) = years\n",
      "  colnames(exchanges) = exchangeCountries\n",
      "  \n",
      "  return(exchanges)\n",
      "}"
     ],
     "language": "python",
     "metadata": {},
     "outputs": [],
     "prompt_number": 5
    },
    {
     "cell_type": "heading",
     "level": 2,
     "metadata": {},
     "source": [
      "Stock Index Prices"
     ]
    },
    {
     "cell_type": "markdown",
     "metadata": {},
     "source": [
      "As in currencies, the historical prices are also in the respective countries' own currency. We again focus on the **returns** year-on-year for easy analysis across all countries.\n",
      "<br />\n",
      "<br />\n",
      "To give more explanation on how we do this, we take the first year data is available (from 1995-2011) as the **base year**, and we replace it with the value of a 100, storing the real nominal value. Then, for each subsequent year, we normalize them by taking as a fraction of the base year's real nominal value. We now have clean, normalized data that easily reveals the returns each year. Again, we set NA for data that is not available (some stock exchanges were established after 1995)."
     ]
    },
    {
     "cell_type": "code",
     "collapsed": false,
     "input": [
      "%%R\n",
      "\n",
      "gatherIndexData = function() {\n",
      "  # This function will gather the stock index data for each of the 25 countries whose\n",
      "  # index data we have scraped and placed in csv files.  We will pull the data from\n",
      "  # each csv and clean it such that we have relative changes rather than nominal values\n",
      "  \n",
      "  indexFiles = list.files(path = \"./data/stock/done\")\n",
      "  indexCountries = c()\n",
      "  new = TRUE\n",
      "  for (i in 1:length(indexFiles)) {\n",
      "    indexCountries[i] = substring(indexFiles[i], 1, 3)\n",
      "    filePath = paste(\"./data/stock/done/\", indexFiles[i], sep=\"\")\n",
      "    rawData = read.csv(filePath, header=FALSE)\n",
      "    startYear = rawData[1][1,]\n",
      "    if (startYear != 1995) {\n",
      "      dummyYears = 1995:(startYear-1)\n",
      "      V2 = rep(NaN, length(dummyYears))\n",
      "      dummyData = data.frame(V2)\n",
      "      prices = rbind(dummyData, rawData[2])\n",
      "    }\n",
      "    else {\n",
      "      prices = rawData[2]\n",
      "    }\n",
      "    if (new == TRUE) {\n",
      "      indexes = prices\n",
      "      new = FALSE\n",
      "    }\n",
      "    else {\n",
      "      indexes = cbind(indexes, prices)\n",
      "    }\n",
      "  }\n",
      "  \n",
      "  years = 1995:2011\n",
      "  rownames(indexes) = years\n",
      "  colnames(indexes) = indexCountries\n",
      "\n",
      "for (i in colnames(indexes)) {\n",
      "    k = 1995\n",
      "    while (as.character(indexes[i][as.character(k),]) == \"NaN\") {\n",
      "      k = k + 1\n",
      "    }\n",
      "    \n",
      "    base = indexes[i][as.character(k),]\n",
      "    indexes[i][as.character(k),] = NaN\n",
      "    for (j in (k+1):2011) {\n",
      "      temp = indexes[i][as.character(j),]\n",
      "      indexes[i][as.character(j),] = indexes[i][as.character(j),]/base*100\n",
      "      base = temp\n",
      "    }\n",
      "  }\n",
      "  indexes2 = indexes[-1,]\n",
      "  return(indexes2)\n",
      "}"
     ],
     "language": "python",
     "metadata": {},
     "outputs": [],
     "prompt_number": 7
    },
    {
     "cell_type": "heading",
     "level": 2,
     "metadata": {},
     "source": [
      "Economic Indicators"
     ]
    },
    {
     "cell_type": "markdown",
     "metadata": {},
     "source": [
      "Lastly, we will pull the macroeconomic indicator data from the csv files we have gathered from the World Bank Macroeconomic Indicators database.  The \"gatherMacroData\" function fits all of our macroeconomic indicators because the data was downloaded in a standardized format.  We will be making a function for each indicator so that we can import these functions in our analysis script. As always, we set NA for missing data."
     ]
    },
    {
     "cell_type": "code",
     "collapsed": false,
     "input": [
      "%%R\n",
      "\n",
      "gatherMacroData = function(filename) {\n",
      "  macro = read.csv(filename)\n",
      "  macro[1] = NULL\n",
      "  macro[2] = NULL\n",
      "  macro[2] = NULL\n",
      "  names(macro)[2:20] = seq(1995, 2013)\n",
      "  macro = t(macro)\n",
      "  macro2 = macro[-1,]\n",
      "  colnames(macro2) = macro[1,]\n",
      "  macro3 = macro2[rowSums(is.na(macro2)) != ncol(macro2),]\n",
      "  macro4 = apply(as.matrix(macro3), 1, as.numeric)\n",
      "  macro5 = t(macro4)\n",
      "  colnames(macro5) = tolower(macro[1,])\n",
      "  macro6 = macro5[,colSums(is.na(macro5)) != nrow(macro5)]\n",
      "  return(macro6)\n",
      "}\n",
      "\n",
      "getCO2Emissions = function() {\n",
      "  return(gatherMacroData(\"./data/macros/co2emissions.csv\"))\n",
      "}\n",
      "getExportsGrowth = function() {\n",
      "  return(gatherMacroData(\"./data/macros/exportsGSGrowth.csv\"))\n",
      "}\n",
      "getGDPGrowth = function() {\n",
      "  return(gatherMacroData(\"./data/macros/gdpGrowth.csv\"))\n",
      "}\n",
      "getGDSaving = function() {\n",
      "  return(gatherMacroData(\"./data/macros/gdSaving.csv\"))\n",
      "}\n",
      "getInfantMortality = function() {\n",
      "  return(gatherMacroData(\"./data/macros/infantMortality.csv\"))\n",
      "}\n",
      "getNetMigration = function() {\n",
      "  return(gatherMacroData(\"./data/macros/netMigration.csv\"))\n",
      "}\n",
      "getRealInterestRates = function() {\n",
      "  return(gatherMacroData(\"./data/macros/realInterestRate.csv\"))\n",
      "}"
     ],
     "language": "python",
     "metadata": {},
     "outputs": [],
     "prompt_number": 9
    },
    {
     "cell_type": "heading",
     "level": 2,
     "metadata": {},
     "source": [
      "Conclusion"
     ]
    },
    {
     "cell_type": "markdown",
     "metadata": {},
     "source": [
      "Our data cleaning process loads the .csv files previously produced from data gathering into R Data Frames, with some cleaning for certain datasets along the way. We decided to do store everything into R Data Frames because this is the easiest R object to carry out analysis moving forward. In summary, we know have 4 clean 2-D R Data Frames for each of our 4 datasets:\n",
      "<br />\n",
      "<br />\n",
      "1. **TDI Data Frame**: rows are years 1995-2011; columns are countries in 3-letter standard country codes; values are TDI for the country in that year.\n",
      "<br />\n",
      "2. **Currencies Data Frame**: rows are years 1995-2011; columns are countries in 3-letter standard country codes; values are **normalized** exchange rate averages with 1 USD for the country's currency in that year.\n",
      "<br />\n",
      "3. **Stock Index Data Frame**: rows are years 1995-2011; columns are countries in 3-letter standard country codes; values are **normalized** stock index averages in that country for the year.\n",
      "<br />\n",
      "4. **Economic Indicators Data Frame**: rows are years 1995-2011; columns are countries in 3-letter standard country codes; values are the respective macro-economic indicator score/metric.\n",
      "<br />\n",
      "<br />\n",
      "As we can see above, even though our datasets and sources are varied, we have cleaned them into R Data Frames having the same rows and columns for easy analysis in the next part."
     ]
    },
    {
     "cell_type": "heading",
     "level": 2,
     "metadata": {},
     "source": [
      "References"
     ]
    },
    {
     "cell_type": "markdown",
     "metadata": {},
     "source": [
      "* The Observatory of Economic Complexity. \n",
      "    * Accessed with http://atlas.media.mit.edu/\n",
      "\n",
      "* The World Bank: World Development Indicators. \n",
      "    * Accessed with http://databank.worldbank.org/data/views/variableSelection/selectvariables.aspx?source=world-development-indicators\n",
      "\n",
      "* Oanda Currency Converter. \n",
      "    * Accessed with http://www.oanda.com/currency/converter/"
     ]
    }
   ],
   "metadata": {}
  }
 ]
}